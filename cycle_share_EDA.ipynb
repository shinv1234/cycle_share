{
 "cells": [
  {
   "cell_type": "code",
   "execution_count": 2,
   "metadata": {},
   "outputs": [
    {
     "name": "stderr",
     "output_type": "stream",
     "text": [
      "<string>:2: DtypeWarning:\n",
      "\n",
      "Columns (21,39) have mixed types. Specify dtype option on import or set low_memory=False.\n",
      "\n"
     ]
    },
    {
     "name": "stdout",
     "output_type": "stream",
     "text": [
      "Wall time: 5.17 s\n"
     ]
    }
   ],
   "source": [
    "%%time\n",
    "cycle_share = pd.read_csv('cycle_share.csv')"
   ]
  },
  {
   "cell_type": "code",
   "execution_count": 1,
   "metadata": {},
   "outputs": [
    {
     "data": {
      "text/html": [
       "<script>requirejs.config({paths: { 'plotly': ['https://cdn.plot.ly/plotly-latest.min']},});if(!window.Plotly) {{require(['plotly'],function(plotly) {window.Plotly=plotly;});}}</script>"
      ],
      "text/vnd.plotly.v1+html": [
       "<script>requirejs.config({paths: { 'plotly': ['https://cdn.plot.ly/plotly-latest.min']},});if(!window.Plotly) {{require(['plotly'],function(plotly) {window.Plotly=plotly;});}}</script>"
      ]
     },
     "metadata": {},
     "output_type": "display_data"
    },
    {
     "name": "stdout",
     "output_type": "stream",
     "text": [
      "Wall time: 32.4 s\n"
     ]
    }
   ],
   "source": [
    "%%time\n",
    "from __future__ import division\n",
    "from __future__ import print_function\n",
    "\n",
    "import numpy as np\n",
    "import scipy as sp\n",
    "import pandas as pd\n",
    "\n",
    "import statsmodels.api as sm\n",
    "import statsmodels.formula.api as smf\n",
    "import statsmodels.stats.api as sms\n",
    "\n",
    "import sklearn as sk\n",
    "from sklearn.preprocessing import OneHotEncoder, LabelEncoder\n",
    "from sklearn.model_selection import ShuffleSplit\n",
    "from sklearn.tree import DecisionTreeClassifier\n",
    "from sklearn.ensemble import ExtraTreesRegressor\n",
    "from sklearn.svm import SVR\n",
    "\n",
    "from patsy import dmatrix, dmatrices\n",
    "\n",
    "import matplotlib as mpl\n",
    "mpl.rc('font', family='NanumGothic')\n",
    "import matplotlib.pylab as plt\n",
    "from mpl_toolkits.mplot3d import Axes3D\n",
    "\n",
    "import seaborn as sns\n",
    "sns.set()\n",
    "sns.set_style(\"whitegrid\")\n",
    "sns.set_color_codes()\n",
    "pd.options.display.max_columns = 100\n",
    "pd.options.display.max_rows = 70\n",
    "\n",
    "import StringIO\n",
    "import pydot\n",
    "from IPython.core.display import Image\n",
    "from sklearn.tree import export_graphviz\n",
    "\n",
    "import plotly.plotly as py\n",
    "from plotly.offline import init_notebook_mode\n",
    "import pandas as pd\n",
    "import plotly \n",
    "plotly.tools.set_config_file(world_readable=False, sharing='private')\n",
    "init_notebook_mode(connected=True)"
   ]
  },
  {
   "cell_type": "markdown",
   "metadata": {},
   "source": [
    "|Feature| Type |Description\n",
    "|----|----|----|\n",
    "|trip_id  | ID| 이용 id\n",
    "|starttime  |  |이용 시작시간\n",
    "|stoptime  |  |이용 종료시간\n",
    "|bikeid  | 카테고리| 자전거 id\n",
    "|tripduration |  연속형| 이용기간(초) \n",
    "|from_station_name |카테고리 | 이용시작 정거장 \n",
    "|to_station_name |카테고리 | 이용 종료 정거장\n",
    "|from_station_id | 카테고리|    이용시작 정거장 id   \n",
    "|to_station_id   |카테고리 |  이용 종료 정거장 id\n",
    "|usertype   | 카테고리| 유저 타입\n",
    "|gender    | 카테고리| 유저 성별                   \n",
    "|age    |연속형 | 유저 나이\n",
    "|Date         | | 이용 시작일자              \n",
    "|station_id      | 카테고리|  정거장 id             \n",
    "|name               | 카테고리|  이용시작 정거장          \n",
    "|lat                   | 연속형 |  위도      \n",
    "|long                     | 연속형 | 경도     \n",
    "|install_date                | 카테고리 | 정거장 설치 날짜  \n",
    "|install_dockcount              | 연속형 | 정거장의 dock 갯수\n",
    "|modification_date              | | 스테이션이 수정되어 위치 또는 도킹 개수가 변경된 날짜\n",
    "|current_dockcount             | 연속형 |  160831 기준 각 스테이션의 독 개수\n",
    "|decommission_date               | | 정거장이 서비스를 종료 한 날짜\n",
    "|Max_Temperature_F               | 연속형 | 그 날의 최고 온도\n",
    "|Mean_Temperature_F             |  연속형| 그 날의 평균 온도\n",
    "|Min_TemperatureF             | 연속형| 그 날의 최저 온도\n",
    "|Max_Dew_Point_F                 |연속형 | 그 날의 최고 이슬점\n",
    "|MeanDew_Point_F                |연속형| 그 날의 평균 이슬점\n",
    "|Min_Dewpoint_F  | 연속형| 그 날의 최저 이슬점\n",
    "|Max_Humidity       |연속형 |  그 날의 최고 습도         \n",
    "|Mean_Humidity         | 연속형|  그 날의 평균 습도  \n",
    "|Min_Humidity             | 연속형|   그 날의 최저 습도    \n",
    "|Max_Sea_Level_Pressure_In   | 연속형|  그 날의 최고 해수면 높이  \n",
    "|Mean_Sea_Level_Pressure_In     |연속형 | 그 날의 평균 해수면 높이\n",
    "|Min_Sea_Level_Pressure_In       |연속형 | 그 날의 최저 해수면 높이\n",
    "|Max_Visibility_Miles            | 연속형| 그 날의 최고 가시거리(mile)\n",
    "|Mean_Visibility_Miles           | 연속형| 그 날의 평균 가시거리(mile)\n",
    "|Min_Visibility_Miles            | 연속형| 그 날의 최저 가시거리(mile)\n",
    "|Max_Wind_Speed_MPH              |연속형 | 그 날의 최고 풍속\n",
    "|Mean_Wind_Speed_MPH            | 연속형| 그 날의 평균 풍속\n",
    "|Max_Gust_Speed_MPH             | 연속형| 그 날의 최고 돌풍\n",
    "|Precipitation_In                |연속형 | 그 날의 강수량\n",
    "|Events                         |카테고리 | 그 날의 날씨\n",
    "|from_station_area  | 카테고리 | 정거장이 존재하는 지역\n",
    "|day |카테고리| 일 표기 (월요일부터 일요일까지 차례대로 0~6)\n",
    "|weekend |카테고리| 주말, 평일 표기\n",
    "|Gender_F |카테고리|여성 여부 표기(더미)\n",
    "|Gender_M |카테고리|남성 여부 표기(더미)\n",
    "|Gender_O |카테고리|성별 표기(더미)\n",
    "|Snow|카테고리| 눈 여부(더미)\n",
    "|Thunderstorm|카테고리| 천둥 여부(더미)\n",
    "|Fog|카테고리| 안개 여부(더미)\n",
    "|Rain|카테고리| 비 여부(더미)"
   ]
  },
  {
   "cell_type": "code",
   "execution_count": 10,
   "metadata": {},
   "outputs": [
    {
     "data": {
      "text/html": [
       "<div>\n",
       "<table border=\"1\" class=\"dataframe\">\n",
       "  <thead>\n",
       "    <tr style=\"text-align: right;\">\n",
       "      <th></th>\n",
       "      <th>trip_id</th>\n",
       "      <th>starttime</th>\n",
       "      <th>stoptime</th>\n",
       "      <th>bikeid</th>\n",
       "      <th>tripduration</th>\n",
       "      <th>from_station_name</th>\n",
       "      <th>to_station_name</th>\n",
       "      <th>from_station_id</th>\n",
       "      <th>to_station_id</th>\n",
       "      <th>usertype</th>\n",
       "      <th>gender</th>\n",
       "      <th>age</th>\n",
       "      <th>Date</th>\n",
       "      <th>station_id</th>\n",
       "      <th>name</th>\n",
       "      <th>lat</th>\n",
       "      <th>long</th>\n",
       "      <th>install_date</th>\n",
       "      <th>install_dockcount</th>\n",
       "      <th>modification_date</th>\n",
       "      <th>current_dockcount</th>\n",
       "      <th>decommission_date</th>\n",
       "      <th>Max_Temperature_F</th>\n",
       "      <th>Mean_Temperature_F</th>\n",
       "      <th>Min_TemperatureF</th>\n",
       "      <th>Max_Dew_Point_F</th>\n",
       "      <th>MeanDew_Point_F</th>\n",
       "      <th>Min_Dewpoint_F</th>\n",
       "      <th>Max_Humidity</th>\n",
       "      <th>Mean_Humidity</th>\n",
       "      <th>Min_Humidity</th>\n",
       "      <th>Max_Sea_Level_Pressure_In</th>\n",
       "      <th>Mean_Sea_Level_Pressure_In</th>\n",
       "      <th>Min_Sea_Level_Pressure_In</th>\n",
       "      <th>Max_Visibility_Miles</th>\n",
       "      <th>Mean_Visibility_Miles</th>\n",
       "      <th>Min_Visibility_Miles</th>\n",
       "      <th>Max_Wind_Speed_MPH</th>\n",
       "      <th>Mean_Wind_Speed_MPH</th>\n",
       "      <th>Max_Gust_Speed_MPH</th>\n",
       "      <th>Precipitation_In</th>\n",
       "      <th>Events</th>\n",
       "      <th>from_station_area</th>\n",
       "      <th>day</th>\n",
       "      <th>weekend</th>\n",
       "      <th>from_station_area[BT]</th>\n",
       "      <th>from_station_area[CBD]</th>\n",
       "      <th>from_station_area[CD]</th>\n",
       "      <th>from_station_area[CH]</th>\n",
       "      <th>from_station_area[DPD]</th>\n",
       "      <th>from_station_area[EL]</th>\n",
       "      <th>from_station_area[FH]</th>\n",
       "      <th>from_station_area[ID]</th>\n",
       "      <th>from_station_area[PS]</th>\n",
       "      <th>from_station_area[SLU]</th>\n",
       "      <th>from_station_area[UD]</th>\n",
       "      <th>from_station_area[UW]</th>\n",
       "      <th>from_station_area[WF]</th>\n",
       "      <th>Gender_F</th>\n",
       "      <th>Gender_M</th>\n",
       "      <th>Gender_O</th>\n",
       "      <th>Rain</th>\n",
       "      <th>Snow</th>\n",
       "      <th>Thunderstorm</th>\n",
       "      <th>Fog</th>\n",
       "    </tr>\n",
       "  </thead>\n",
       "  <tbody>\n",
       "    <tr>\n",
       "      <th>0</th>\n",
       "      <td>431</td>\n",
       "      <td>10/13/2014 10:31</td>\n",
       "      <td>10/13/2014 10:48</td>\n",
       "      <td>SEA00298</td>\n",
       "      <td>985.935</td>\n",
       "      <td>2nd Ave &amp; Spring St</td>\n",
       "      <td>Occidental Park / Occidental Ave S &amp; S Washing...</td>\n",
       "      <td>CBD-06</td>\n",
       "      <td>PS-04</td>\n",
       "      <td>Member</td>\n",
       "      <td>Male</td>\n",
       "      <td>57.0</td>\n",
       "      <td>10/13/2014</td>\n",
       "      <td>CBD-06</td>\n",
       "      <td>2nd Ave &amp; Spring St</td>\n",
       "      <td>47.60595</td>\n",
       "      <td>-122.335768</td>\n",
       "      <td>10/13/2014</td>\n",
       "      <td>20.0</td>\n",
       "      <td>11/9/2015</td>\n",
       "      <td>18.0</td>\n",
       "      <td>NaN</td>\n",
       "      <td>71</td>\n",
       "      <td>62.0</td>\n",
       "      <td>54</td>\n",
       "      <td>55</td>\n",
       "      <td>51</td>\n",
       "      <td>46</td>\n",
       "      <td>87</td>\n",
       "      <td>68</td>\n",
       "      <td>46</td>\n",
       "      <td>30.03</td>\n",
       "      <td>29.79</td>\n",
       "      <td>29.65</td>\n",
       "      <td>10</td>\n",
       "      <td>10</td>\n",
       "      <td>4</td>\n",
       "      <td>13</td>\n",
       "      <td>4</td>\n",
       "      <td>21</td>\n",
       "      <td>0.0</td>\n",
       "      <td>Rain</td>\n",
       "      <td>CBD</td>\n",
       "      <td>0</td>\n",
       "      <td>1</td>\n",
       "      <td>0.0</td>\n",
       "      <td>1.0</td>\n",
       "      <td>0.0</td>\n",
       "      <td>0.0</td>\n",
       "      <td>0.0</td>\n",
       "      <td>0.0</td>\n",
       "      <td>0.0</td>\n",
       "      <td>0.0</td>\n",
       "      <td>0.0</td>\n",
       "      <td>0.0</td>\n",
       "      <td>0.0</td>\n",
       "      <td>0.0</td>\n",
       "      <td>0.0</td>\n",
       "      <td>0.0</td>\n",
       "      <td>1.0</td>\n",
       "      <td>0.0</td>\n",
       "      <td>1</td>\n",
       "      <td>0</td>\n",
       "      <td>0</td>\n",
       "      <td>0</td>\n",
       "    </tr>\n",
       "    <tr>\n",
       "      <th>1</th>\n",
       "      <td>432</td>\n",
       "      <td>10/13/2014 10:32</td>\n",
       "      <td>10/13/2014 10:48</td>\n",
       "      <td>SEA00195</td>\n",
       "      <td>926.375</td>\n",
       "      <td>2nd Ave &amp; Spring St</td>\n",
       "      <td>Occidental Park / Occidental Ave S &amp; S Washing...</td>\n",
       "      <td>CBD-06</td>\n",
       "      <td>PS-04</td>\n",
       "      <td>Member</td>\n",
       "      <td>Male</td>\n",
       "      <td>47.0</td>\n",
       "      <td>10/13/2014</td>\n",
       "      <td>CBD-06</td>\n",
       "      <td>2nd Ave &amp; Spring St</td>\n",
       "      <td>47.60595</td>\n",
       "      <td>-122.335768</td>\n",
       "      <td>10/13/2014</td>\n",
       "      <td>20.0</td>\n",
       "      <td>11/9/2015</td>\n",
       "      <td>18.0</td>\n",
       "      <td>NaN</td>\n",
       "      <td>71</td>\n",
       "      <td>62.0</td>\n",
       "      <td>54</td>\n",
       "      <td>55</td>\n",
       "      <td>51</td>\n",
       "      <td>46</td>\n",
       "      <td>87</td>\n",
       "      <td>68</td>\n",
       "      <td>46</td>\n",
       "      <td>30.03</td>\n",
       "      <td>29.79</td>\n",
       "      <td>29.65</td>\n",
       "      <td>10</td>\n",
       "      <td>10</td>\n",
       "      <td>4</td>\n",
       "      <td>13</td>\n",
       "      <td>4</td>\n",
       "      <td>21</td>\n",
       "      <td>0.0</td>\n",
       "      <td>Rain</td>\n",
       "      <td>CBD</td>\n",
       "      <td>0</td>\n",
       "      <td>1</td>\n",
       "      <td>0.0</td>\n",
       "      <td>1.0</td>\n",
       "      <td>0.0</td>\n",
       "      <td>0.0</td>\n",
       "      <td>0.0</td>\n",
       "      <td>0.0</td>\n",
       "      <td>0.0</td>\n",
       "      <td>0.0</td>\n",
       "      <td>0.0</td>\n",
       "      <td>0.0</td>\n",
       "      <td>0.0</td>\n",
       "      <td>0.0</td>\n",
       "      <td>0.0</td>\n",
       "      <td>0.0</td>\n",
       "      <td>1.0</td>\n",
       "      <td>0.0</td>\n",
       "      <td>1</td>\n",
       "      <td>0</td>\n",
       "      <td>0</td>\n",
       "      <td>0</td>\n",
       "    </tr>\n",
       "    <tr>\n",
       "      <th>2</th>\n",
       "      <td>433</td>\n",
       "      <td>10/13/2014 10:33</td>\n",
       "      <td>10/13/2014 10:48</td>\n",
       "      <td>SEA00486</td>\n",
       "      <td>883.831</td>\n",
       "      <td>2nd Ave &amp; Spring St</td>\n",
       "      <td>Occidental Park / Occidental Ave S &amp; S Washing...</td>\n",
       "      <td>CBD-06</td>\n",
       "      <td>PS-04</td>\n",
       "      <td>Member</td>\n",
       "      <td>Female</td>\n",
       "      <td>29.0</td>\n",
       "      <td>10/13/2014</td>\n",
       "      <td>CBD-06</td>\n",
       "      <td>2nd Ave &amp; Spring St</td>\n",
       "      <td>47.60595</td>\n",
       "      <td>-122.335768</td>\n",
       "      <td>10/13/2014</td>\n",
       "      <td>20.0</td>\n",
       "      <td>11/9/2015</td>\n",
       "      <td>18.0</td>\n",
       "      <td>NaN</td>\n",
       "      <td>71</td>\n",
       "      <td>62.0</td>\n",
       "      <td>54</td>\n",
       "      <td>55</td>\n",
       "      <td>51</td>\n",
       "      <td>46</td>\n",
       "      <td>87</td>\n",
       "      <td>68</td>\n",
       "      <td>46</td>\n",
       "      <td>30.03</td>\n",
       "      <td>29.79</td>\n",
       "      <td>29.65</td>\n",
       "      <td>10</td>\n",
       "      <td>10</td>\n",
       "      <td>4</td>\n",
       "      <td>13</td>\n",
       "      <td>4</td>\n",
       "      <td>21</td>\n",
       "      <td>0.0</td>\n",
       "      <td>Rain</td>\n",
       "      <td>CBD</td>\n",
       "      <td>0</td>\n",
       "      <td>1</td>\n",
       "      <td>0.0</td>\n",
       "      <td>1.0</td>\n",
       "      <td>0.0</td>\n",
       "      <td>0.0</td>\n",
       "      <td>0.0</td>\n",
       "      <td>0.0</td>\n",
       "      <td>0.0</td>\n",
       "      <td>0.0</td>\n",
       "      <td>0.0</td>\n",
       "      <td>0.0</td>\n",
       "      <td>0.0</td>\n",
       "      <td>0.0</td>\n",
       "      <td>0.0</td>\n",
       "      <td>1.0</td>\n",
       "      <td>0.0</td>\n",
       "      <td>0.0</td>\n",
       "      <td>1</td>\n",
       "      <td>0</td>\n",
       "      <td>0</td>\n",
       "      <td>0</td>\n",
       "    </tr>\n",
       "    <tr>\n",
       "      <th>3</th>\n",
       "      <td>434</td>\n",
       "      <td>10/13/2014 10:34</td>\n",
       "      <td>10/13/2014 10:48</td>\n",
       "      <td>SEA00333</td>\n",
       "      <td>865.937</td>\n",
       "      <td>2nd Ave &amp; Spring St</td>\n",
       "      <td>Occidental Park / Occidental Ave S &amp; S Washing...</td>\n",
       "      <td>CBD-06</td>\n",
       "      <td>PS-04</td>\n",
       "      <td>Member</td>\n",
       "      <td>Female</td>\n",
       "      <td>40.0</td>\n",
       "      <td>10/13/2014</td>\n",
       "      <td>CBD-06</td>\n",
       "      <td>2nd Ave &amp; Spring St</td>\n",
       "      <td>47.60595</td>\n",
       "      <td>-122.335768</td>\n",
       "      <td>10/13/2014</td>\n",
       "      <td>20.0</td>\n",
       "      <td>11/9/2015</td>\n",
       "      <td>18.0</td>\n",
       "      <td>NaN</td>\n",
       "      <td>71</td>\n",
       "      <td>62.0</td>\n",
       "      <td>54</td>\n",
       "      <td>55</td>\n",
       "      <td>51</td>\n",
       "      <td>46</td>\n",
       "      <td>87</td>\n",
       "      <td>68</td>\n",
       "      <td>46</td>\n",
       "      <td>30.03</td>\n",
       "      <td>29.79</td>\n",
       "      <td>29.65</td>\n",
       "      <td>10</td>\n",
       "      <td>10</td>\n",
       "      <td>4</td>\n",
       "      <td>13</td>\n",
       "      <td>4</td>\n",
       "      <td>21</td>\n",
       "      <td>0.0</td>\n",
       "      <td>Rain</td>\n",
       "      <td>CBD</td>\n",
       "      <td>0</td>\n",
       "      <td>1</td>\n",
       "      <td>0.0</td>\n",
       "      <td>1.0</td>\n",
       "      <td>0.0</td>\n",
       "      <td>0.0</td>\n",
       "      <td>0.0</td>\n",
       "      <td>0.0</td>\n",
       "      <td>0.0</td>\n",
       "      <td>0.0</td>\n",
       "      <td>0.0</td>\n",
       "      <td>0.0</td>\n",
       "      <td>0.0</td>\n",
       "      <td>0.0</td>\n",
       "      <td>0.0</td>\n",
       "      <td>1.0</td>\n",
       "      <td>0.0</td>\n",
       "      <td>0.0</td>\n",
       "      <td>1</td>\n",
       "      <td>0</td>\n",
       "      <td>0</td>\n",
       "      <td>0</td>\n",
       "    </tr>\n",
       "    <tr>\n",
       "      <th>4</th>\n",
       "      <td>435</td>\n",
       "      <td>10/13/2014 10:34</td>\n",
       "      <td>10/13/2014 10:49</td>\n",
       "      <td>SEA00202</td>\n",
       "      <td>923.923</td>\n",
       "      <td>2nd Ave &amp; Spring St</td>\n",
       "      <td>Occidental Park / Occidental Ave S &amp; S Washing...</td>\n",
       "      <td>CBD-06</td>\n",
       "      <td>PS-04</td>\n",
       "      <td>Member</td>\n",
       "      <td>Male</td>\n",
       "      <td>46.0</td>\n",
       "      <td>10/13/2014</td>\n",
       "      <td>CBD-06</td>\n",
       "      <td>2nd Ave &amp; Spring St</td>\n",
       "      <td>47.60595</td>\n",
       "      <td>-122.335768</td>\n",
       "      <td>10/13/2014</td>\n",
       "      <td>20.0</td>\n",
       "      <td>11/9/2015</td>\n",
       "      <td>18.0</td>\n",
       "      <td>NaN</td>\n",
       "      <td>71</td>\n",
       "      <td>62.0</td>\n",
       "      <td>54</td>\n",
       "      <td>55</td>\n",
       "      <td>51</td>\n",
       "      <td>46</td>\n",
       "      <td>87</td>\n",
       "      <td>68</td>\n",
       "      <td>46</td>\n",
       "      <td>30.03</td>\n",
       "      <td>29.79</td>\n",
       "      <td>29.65</td>\n",
       "      <td>10</td>\n",
       "      <td>10</td>\n",
       "      <td>4</td>\n",
       "      <td>13</td>\n",
       "      <td>4</td>\n",
       "      <td>21</td>\n",
       "      <td>0.0</td>\n",
       "      <td>Rain</td>\n",
       "      <td>CBD</td>\n",
       "      <td>0</td>\n",
       "      <td>1</td>\n",
       "      <td>0.0</td>\n",
       "      <td>1.0</td>\n",
       "      <td>0.0</td>\n",
       "      <td>0.0</td>\n",
       "      <td>0.0</td>\n",
       "      <td>0.0</td>\n",
       "      <td>0.0</td>\n",
       "      <td>0.0</td>\n",
       "      <td>0.0</td>\n",
       "      <td>0.0</td>\n",
       "      <td>0.0</td>\n",
       "      <td>0.0</td>\n",
       "      <td>0.0</td>\n",
       "      <td>0.0</td>\n",
       "      <td>1.0</td>\n",
       "      <td>0.0</td>\n",
       "      <td>1</td>\n",
       "      <td>0</td>\n",
       "      <td>0</td>\n",
       "      <td>0</td>\n",
       "    </tr>\n",
       "  </tbody>\n",
       "</table>\n",
       "</div>"
      ],
      "text/plain": [
       "   trip_id         starttime          stoptime    bikeid  tripduration  \\\n",
       "0      431  10/13/2014 10:31  10/13/2014 10:48  SEA00298       985.935   \n",
       "1      432  10/13/2014 10:32  10/13/2014 10:48  SEA00195       926.375   \n",
       "2      433  10/13/2014 10:33  10/13/2014 10:48  SEA00486       883.831   \n",
       "3      434  10/13/2014 10:34  10/13/2014 10:48  SEA00333       865.937   \n",
       "4      435  10/13/2014 10:34  10/13/2014 10:49  SEA00202       923.923   \n",
       "\n",
       "     from_station_name                                    to_station_name  \\\n",
       "0  2nd Ave & Spring St  Occidental Park / Occidental Ave S & S Washing...   \n",
       "1  2nd Ave & Spring St  Occidental Park / Occidental Ave S & S Washing...   \n",
       "2  2nd Ave & Spring St  Occidental Park / Occidental Ave S & S Washing...   \n",
       "3  2nd Ave & Spring St  Occidental Park / Occidental Ave S & S Washing...   \n",
       "4  2nd Ave & Spring St  Occidental Park / Occidental Ave S & S Washing...   \n",
       "\n",
       "  from_station_id to_station_id usertype  gender   age        Date station_id  \\\n",
       "0          CBD-06         PS-04   Member    Male  57.0  10/13/2014     CBD-06   \n",
       "1          CBD-06         PS-04   Member    Male  47.0  10/13/2014     CBD-06   \n",
       "2          CBD-06         PS-04   Member  Female  29.0  10/13/2014     CBD-06   \n",
       "3          CBD-06         PS-04   Member  Female  40.0  10/13/2014     CBD-06   \n",
       "4          CBD-06         PS-04   Member    Male  46.0  10/13/2014     CBD-06   \n",
       "\n",
       "                  name       lat        long install_date  install_dockcount  \\\n",
       "0  2nd Ave & Spring St  47.60595 -122.335768   10/13/2014               20.0   \n",
       "1  2nd Ave & Spring St  47.60595 -122.335768   10/13/2014               20.0   \n",
       "2  2nd Ave & Spring St  47.60595 -122.335768   10/13/2014               20.0   \n",
       "3  2nd Ave & Spring St  47.60595 -122.335768   10/13/2014               20.0   \n",
       "4  2nd Ave & Spring St  47.60595 -122.335768   10/13/2014               20.0   \n",
       "\n",
       "  modification_date  current_dockcount decommission_date  Max_Temperature_F  \\\n",
       "0         11/9/2015               18.0               NaN                 71   \n",
       "1         11/9/2015               18.0               NaN                 71   \n",
       "2         11/9/2015               18.0               NaN                 71   \n",
       "3         11/9/2015               18.0               NaN                 71   \n",
       "4         11/9/2015               18.0               NaN                 71   \n",
       "\n",
       "   Mean_Temperature_F  Min_TemperatureF  Max_Dew_Point_F  MeanDew_Point_F  \\\n",
       "0                62.0                54               55               51   \n",
       "1                62.0                54               55               51   \n",
       "2                62.0                54               55               51   \n",
       "3                62.0                54               55               51   \n",
       "4                62.0                54               55               51   \n",
       "\n",
       "   Min_Dewpoint_F  Max_Humidity  Mean_Humidity  Min_Humidity  \\\n",
       "0              46            87             68            46   \n",
       "1              46            87             68            46   \n",
       "2              46            87             68            46   \n",
       "3              46            87             68            46   \n",
       "4              46            87             68            46   \n",
       "\n",
       "   Max_Sea_Level_Pressure_In  Mean_Sea_Level_Pressure_In  \\\n",
       "0                      30.03                       29.79   \n",
       "1                      30.03                       29.79   \n",
       "2                      30.03                       29.79   \n",
       "3                      30.03                       29.79   \n",
       "4                      30.03                       29.79   \n",
       "\n",
       "   Min_Sea_Level_Pressure_In  Max_Visibility_Miles  Mean_Visibility_Miles  \\\n",
       "0                      29.65                    10                     10   \n",
       "1                      29.65                    10                     10   \n",
       "2                      29.65                    10                     10   \n",
       "3                      29.65                    10                     10   \n",
       "4                      29.65                    10                     10   \n",
       "\n",
       "   Min_Visibility_Miles  Max_Wind_Speed_MPH  Mean_Wind_Speed_MPH  \\\n",
       "0                     4                  13                    4   \n",
       "1                     4                  13                    4   \n",
       "2                     4                  13                    4   \n",
       "3                     4                  13                    4   \n",
       "4                     4                  13                    4   \n",
       "\n",
       "  Max_Gust_Speed_MPH  Precipitation_In Events from_station_area  day  weekend  \\\n",
       "0                 21               0.0   Rain               CBD    0        1   \n",
       "1                 21               0.0   Rain               CBD    0        1   \n",
       "2                 21               0.0   Rain               CBD    0        1   \n",
       "3                 21               0.0   Rain               CBD    0        1   \n",
       "4                 21               0.0   Rain               CBD    0        1   \n",
       "\n",
       "   from_station_area[BT]  from_station_area[CBD]  from_station_area[CD]  \\\n",
       "0                    0.0                     1.0                    0.0   \n",
       "1                    0.0                     1.0                    0.0   \n",
       "2                    0.0                     1.0                    0.0   \n",
       "3                    0.0                     1.0                    0.0   \n",
       "4                    0.0                     1.0                    0.0   \n",
       "\n",
       "   from_station_area[CH]  from_station_area[DPD]  from_station_area[EL]  \\\n",
       "0                    0.0                     0.0                    0.0   \n",
       "1                    0.0                     0.0                    0.0   \n",
       "2                    0.0                     0.0                    0.0   \n",
       "3                    0.0                     0.0                    0.0   \n",
       "4                    0.0                     0.0                    0.0   \n",
       "\n",
       "   from_station_area[FH]  from_station_area[ID]  from_station_area[PS]  \\\n",
       "0                    0.0                    0.0                    0.0   \n",
       "1                    0.0                    0.0                    0.0   \n",
       "2                    0.0                    0.0                    0.0   \n",
       "3                    0.0                    0.0                    0.0   \n",
       "4                    0.0                    0.0                    0.0   \n",
       "\n",
       "   from_station_area[SLU]  from_station_area[UD]  from_station_area[UW]  \\\n",
       "0                     0.0                    0.0                    0.0   \n",
       "1                     0.0                    0.0                    0.0   \n",
       "2                     0.0                    0.0                    0.0   \n",
       "3                     0.0                    0.0                    0.0   \n",
       "4                     0.0                    0.0                    0.0   \n",
       "\n",
       "   from_station_area[WF]  Gender_F  Gender_M  Gender_O  Rain  Snow  \\\n",
       "0                    0.0       0.0       1.0       0.0     1     0   \n",
       "1                    0.0       0.0       1.0       0.0     1     0   \n",
       "2                    0.0       1.0       0.0       0.0     1     0   \n",
       "3                    0.0       1.0       0.0       0.0     1     0   \n",
       "4                    0.0       0.0       1.0       0.0     1     0   \n",
       "\n",
       "   Thunderstorm  Fog  \n",
       "0             0    0  \n",
       "1             0    0  \n",
       "2             0    0  \n",
       "3             0    0  \n",
       "4             0    0  "
      ]
     },
     "execution_count": 10,
     "metadata": {},
     "output_type": "execute_result"
    }
   ],
   "source": [
    "cycle_share.head()"
   ]
  },
  {
   "cell_type": "code",
   "execution_count": 11,
   "metadata": {},
   "outputs": [
    {
     "data": {
      "image/png": "[encoded data removed]",
      "text/plain": [
       "<matplotlib.figure.Figure at 0xdd6f080>"
      ]
     },
     "metadata": {},
     "output_type": "display_data"
    }
   ],
   "source": [
    "plt.hist(cycle_share['tripduration'], rwidth=0.8)\n",
    "plt.show()"
   ]
  },
  {
   "cell_type": "code",
   "execution_count": 10,
   "metadata": {},
   "outputs": [
    {
     "data": {
      "image/png": "[encoded data removed]",
      "text/plain": [
       "<matplotlib.figure.Figure at 0x1861f048>"
      ]
     },
     "metadata": {},
     "output_type": "display_data"
    }
   ],
   "source": [
    "plt.hist(np.log(cycle_share['tripduration']), rwidth=0.8)\n",
    "plt.show()"
   ]
  },
  {
   "cell_type": "code",
   "execution_count": 10,
   "metadata": {},
   "outputs": [
    {
     "data": {
      "image/png": "[encoded data removed]",
      "text/plain": [
       "<matplotlib.figure.Figure at 0x10c686a0>"
      ]
     },
     "metadata": {},
     "output_type": "display_data"
    }
   ],
   "source": [
    "plt.hist(cycle_share['age'][~cycle_share['age'].isnull()], rwidth=0.8)\n",
    "plt.show()"
   ]
  },
  {
   "cell_type": "code",
   "execution_count": 18,
   "metadata": {},
   "outputs": [
    {
     "data": {
      "image/png": "[encoded data removed]",
      "text/plain": [
       "<matplotlib.figure.Figure at 0x15dd5e80>"
      ]
     },
     "metadata": {},
     "output_type": "display_data"
    }
   ],
   "source": [
    "plt.hist(np.log(cycle_share['age'][~cycle_share['age'].isnull()]), rwidth=0.8)\n",
    "plt.show()"
   ]
  },
  {
   "cell_type": "code",
   "execution_count": 21,
   "metadata": {},
   "outputs": [
    {
     "data": {
      "image/png": "[encoded data removed]",
      "text/plain": [
       "<matplotlib.figure.Figure at 0x1246b048>"
      ]
     },
     "metadata": {},
     "output_type": "display_data"
    }
   ],
   "source": [
    "plt.hist(cycle_share['Mean_Temperature_F'][~cycle_share['Mean_Temperature_F'].isnull()], rwidth=0.8)\n",
    "plt.show()"
   ]
  },
  {
   "cell_type": "code",
   "execution_count": 31,
   "metadata": {},
   "outputs": [
    {
     "data": {
      "image/png": "[encoded data removed]",
      "text/plain": [
       "<matplotlib.figure.Figure at 0x1250eb38>"
      ]
     },
     "metadata": {},
     "output_type": "display_data"
    }
   ],
   "source": [
    "plt.hist(cycle_share['MeanDew_Point_F'], rwidth=0.8)\n",
    "plt.show()"
   ]
  },
  {
   "cell_type": "code",
   "execution_count": 33,
   "metadata": {},
   "outputs": [
    {
     "data": {
      "image/png": "[encoded data removed]",
      "text/plain": [
       "<matplotlib.figure.Figure at 0x1861ff28>"
      ]
     },
     "metadata": {},
     "output_type": "display_data"
    }
   ],
   "source": [
    "plt.hist(cycle_share['Mean_Humidity'], rwidth=0.8)\n",
    "plt.show()"
   ]
  },
  {
   "cell_type": "code",
   "execution_count": 34,
   "metadata": {},
   "outputs": [
    {
     "data": {
      "image/png": "[encoded data removed]",
      "text/plain": [
       "<matplotlib.figure.Figure at 0x17e44eb8>"
      ]
     },
     "metadata": {},
     "output_type": "display_data"
    }
   ],
   "source": [
    "plt.hist(cycle_share['Mean_Sea_Level_Pressure_In'], rwidth=0.8)\n",
    "plt.show()"
   ]
  },
  {
   "cell_type": "code",
   "execution_count": 35,
   "metadata": {},
   "outputs": [
    {
     "data": {
      "image/png": "[encoded data removed]",
      "text/plain": [
       "<matplotlib.figure.Figure at 0x13f8c6a0>"
      ]
     },
     "metadata": {},
     "output_type": "display_data"
    }
   ],
   "source": [
    "plt.hist(cycle_share['Mean_Wind_Speed_MPH'], rwidth=0.8)\n",
    "plt.show()"
   ]
  },
  {
   "cell_type": "code",
   "execution_count": 44,
   "metadata": {
    "scrolled": true
   },
   "outputs": [
    {
     "data": {
      "image/png": "[encoded data removed]",
      "text/plain": [
       "<matplotlib.figure.Figure at 0x17e58550>"
      ]
     },
     "metadata": {},
     "output_type": "display_data"
    }
   ],
   "source": [
    "plt.hist(np.log(0.1 + cycle_share['Precipitation_In']), rwidth=0.8)\n",
    "plt.show()"
   ]
  },
  {
   "cell_type": "code",
   "execution_count": 61,
   "metadata": {},
   "outputs": [
    {
     "data": {
      "image/png": "[encoded data removed]",
      "text/plain": [
       "<matplotlib.figure.Figure at 0xdda1780>"
      ]
     },
     "metadata": {},
     "output_type": "display_data"
    }
   ],
   "source": [
    "plt.pie(cycle_share.usertype.value_counts(), \n",
    "        labels=cycle_share.usertype.value_counts().index, \n",
    "        autopct='%1.1f%%')\n",
    "plt.show()"
   ]
  },
  {
   "cell_type": "code",
   "execution_count": 99,
   "metadata": {},
   "outputs": [
    {
     "data": {
      "image/png": "[encoded data removed]",
      "text/plain": [
       "<matplotlib.figure.Figure at 0x148854e0>"
      ]
     },
     "metadata": {},
     "output_type": "display_data"
    },
    {
     "name": "stdout",
     "output_type": "stream",
     "text": [
      "Male                      112938\n",
      "Short-Term Pass Holder     89892\n",
      "Female                     30329\n",
      "Other                       2901\n",
      "Name: gender, dtype: int64\n"
     ]
    }
   ],
   "source": [
    "cycle_share.gender.replace(to_replace=np.nan, value='Short-Term Pass Holder').value_counts()\n",
    "plt.pie(cycle_share.gender.replace(to_replace=np.nan, value='Short-Term Pass Holder').value_counts(), \n",
    "        labels=cycle_share.gender.replace(to_replace=np.nan, value='Short-Term Pass Holder').value_counts().index, \n",
    "        autopct='%1.1f%%')\n",
    "plt.show()\n",
    "print(cycle_share.gender.replace(to_replace=np.nan, value='Short-Term Pass Holder').value_counts())"
   ]
  },
  {
   "cell_type": "code",
   "execution_count": 97,
   "metadata": {},
   "outputs": [
    {
     "data": {
      "image/png": "[encoded data removed]",
      "text/plain": [
       "<matplotlib.figure.Figure at 0x185fb470>"
      ]
     },
     "metadata": {},
     "output_type": "display_data"
    },
    {
     "name": "stdout",
     "output_type": "stream",
     "text": [
      "        from_station_id\n",
      "WF-01             11274\n",
      "CH-07              9466\n",
      "BT-01              9392\n",
      "CBD-13             8198\n",
      "SLU-15             8188\n",
      "CH-08              7690\n",
      "CH-02              7685\n",
      "BT-03              6568\n",
      "SLU-19             6402\n",
      "SLU-01             6401\n"
     ]
    }
   ],
   "source": [
    "plt.bar([i for i in range(len(cycle_share.from_station_id.value_counts()[:10]))], \n",
    "        cycle_share.from_station_id.value_counts()[:10], \n",
    "        align='center')\n",
    "plt.xticks([i for i in range(len(cycle_share.from_station_id.value_counts()[:10]))], \n",
    "           cycle_share.from_station_id.value_counts()[:10].index)\n",
    "plt.show()\n",
    "print(pd.DataFrame(cycle_share.from_station_id.value_counts()[:10]))"
   ]
  },
  {
   "cell_type": "code",
   "execution_count": 98,
   "metadata": {},
   "outputs": [
    {
     "data": {
      "image/png": "[encoded data removed]",
      "text/plain": [
       "<matplotlib.figure.Figure at 0x124aae80>"
      ]
     },
     "metadata": {},
     "output_type": "display_data"
    },
    {
     "name": "stdout",
     "output_type": "stream",
     "text": [
      "        from_station_id\n",
      "DPD-03             1290\n",
      "CH-16              1288\n",
      "UW-10              1160\n",
      "UD-02              1147\n",
      "UW-11               988\n",
      "CD-01               958\n",
      "SLU-21              863\n",
      "SLU-22              761\n",
      "UW-01               480\n",
      "WF-03               160\n"
     ]
    }
   ],
   "source": [
    "plt.bar([i for i in range(len(cycle_share.from_station_id.value_counts()[-10:]))], \n",
    "        cycle_share.from_station_id.value_counts()[-10:], \n",
    "        align='center')\n",
    "plt.xticks([i for i in range(len(cycle_share.from_station_id.value_counts()[-10:]))], \n",
    "           cycle_share.from_station_id.value_counts()[-10:].index)\n",
    "plt.show()\n",
    "print(pd.DataFrame(cycle_share.from_station_id.value_counts()[-10:]))"
   ]
  },
  {
   "cell_type": "code",
   "execution_count": 106,
   "metadata": {},
   "outputs": [
    {
     "data": {
      "image/png": "[encoded data removed]",
      "text/plain": [
       "<matplotlib.figure.Figure at 0x16307c88>"
      ]
     },
     "metadata": {},
     "output_type": "display_data"
    },
    {
     "data": {
      "image/png": "[encoded data removed]",
      "text/plain": [
       "<matplotlib.figure.Figure at 0x13fa1978>"
      ]
     },
     "metadata": {},
     "output_type": "display_data"
    },
    {
     "name": "stdout",
     "output_type": "stream",
     "text": [
      "10/13/2014    226215\n",
      "7/27/2015       2693\n",
      "6/12/2015       2134\n",
      "3/18/2016       1288\n",
      "10/29/2015       988\n",
      "5/22/2015        958\n",
      "9/15/2015        863\n",
      "7/3/2016         761\n",
      "8/9/2016         160\n",
      "Name: install_date, dtype: int64\n"
     ]
    }
   ],
   "source": [
    "plt.subplot(211)\n",
    "plt.bar([i for i in range(len(cycle_share.install_date.value_counts()))], \n",
    "        cycle_share.install_date.value_counts(), \n",
    "        align='center')\n",
    "plt.xticks([i for i in range(len(cycle_share.install_date.value_counts()))], \n",
    "           cycle_share.install_date.value_counts().index)\n",
    "plt.show()\n",
    "plt.bar([i for i in range(len(cycle_share.install_date.value_counts()[1:]))], \n",
    "        cycle_share.install_date.value_counts()[1:], \n",
    "        align='center')\n",
    "plt.xticks([i for i in range(len(cycle_share.install_date.value_counts()[1:]))], \n",
    "           cycle_share.install_date.value_counts()[1:].index)\n",
    "plt.show()\n",
    "print(cycle_share.install_date.value_counts())"
   ]
  },
  {
   "cell_type": "code",
   "execution_count": 110,
   "metadata": {},
   "outputs": [
    {
     "data": {
      "image/png": "[encoded data removed]",
      "text/plain": [
       "<matplotlib.figure.Figure at 0x12309f60>"
      ]
     },
     "metadata": {},
     "output_type": "display_data"
    },
    {
     "name": "stdout",
     "output_type": "stream",
     "text": [
      "7/2/2016      3461\n",
      "3/18/2016     2349\n",
      "8/9/2016       958\n",
      "10/29/2015     480\n",
      "Name: decommission_date, dtype: int64\n"
     ]
    }
   ],
   "source": [
    "plt.bar([i for i in range(len(cycle_share.decommission_date.value_counts()))], \n",
    "        cycle_share.decommission_date.value_counts(), \n",
    "        align='center')\n",
    "plt.xticks([i for i in range(len(cycle_share.decommission_date.value_counts()))], \n",
    "           cycle_share.decommission_date.value_counts().index)\n",
    "plt.show()\n",
    "print(cycle_share.decommission_date.value_counts())"
   ]
  },
  {
   "cell_type": "code",
   "execution_count": 111,
   "metadata": {},
   "outputs": [
    {
     "data": {
      "image/png": "[encoded data removed]",
      "text/plain": [
       "<matplotlib.figure.Figure at 0x14885a58>"
      ]
     },
     "metadata": {},
     "output_type": "display_data"
    },
    {
     "name": "stdout",
     "output_type": "stream",
     "text": [
      "SLU-18    3461\n",
      "FH-01     2349\n",
      "CD-01      958\n",
      "UW-01      480\n",
      "Name: station_id, dtype: int64\n"
     ]
    }
   ],
   "source": [
    "plt.bar([i for i in range(len(cycle_share['station_id'][cycle_share.decommission_date > 0].value_counts()))], \n",
    "        cycle_share['station_id'][cycle_share.decommission_date > 0].value_counts(), \n",
    "        align='center')\n",
    "plt.xticks([i for i in range(len(cycle_share['station_id'][cycle_share.decommission_date > 0].value_counts()))], \n",
    "           cycle_share['station_id'][cycle_share.decommission_date > 0].value_counts().index)\n",
    "plt.show()\n",
    "print(cycle_share['station_id'][cycle_share.decommission_date > 0].value_counts())"
   ]
  },
  {
   "cell_type": "code",
   "execution_count": 126,
   "metadata": {},
   "outputs": [
    {
     "data": {
      "image/png": "[encoded data removed]",
      "text/plain": [
       "<matplotlib.figure.Figure at 0x112f9630>"
      ]
     },
     "metadata": {},
     "output_type": "display_data"
    },
    {
     "name": "stdout",
     "output_type": "stream",
     "text": [
      "No_Event              150234\n",
      "Rain                   74888\n",
      "Fog                     4402\n",
      "Fog, Rain               3371\n",
      "Rain, Thunderstorm      2387\n",
      "Snow                     463\n",
      "Rain, Snow               315\n",
      "Name: Events, dtype: int64\n"
     ]
    }
   ],
   "source": [
    "Events_pie = cycle_share['Events'].replace(value=['No_Event', 'Rain', 'Fog', 'Fog, Rain', 'Fog, Rain',\n",
    "                                     'Rain, Thunderstorm', 'Rain, Thunderstorm', 'Snow', \n",
    "                                     'Rain, Snow', 'Rain, Snow'], \n",
    "                              to_replace=list(cycle_share['Events'].value_counts().index))\n",
    "plt.pie(Events_pie.value_counts(), \n",
    "        labels=Events_pie.value_counts().index, \n",
    "        autopct='%1.1f%%')\n",
    "plt.show()\n",
    "print(Events_pie.value_counts())"
   ]
  },
  {
   "cell_type": "code",
   "execution_count": 69,
   "metadata": {},
   "outputs": [
    {
     "data": {
      "image/png": "[encoded data removed]",
      "text/plain": [
       "<matplotlib.figure.Figure at 0x16217940>"
      ]
     },
     "metadata": {},
     "output_type": "display_data"
    },
    {
     "name": "stdout",
     "output_type": "stream",
     "text": [
      "Thu     36122\n",
      "Fri     35826\n",
      "Wed     35263\n",
      "Tues    35020\n",
      "Mon     34704\n",
      "Sat     31724\n",
      "Sun     27401\n",
      "Name: day, dtype: int64\n"
     ]
    }
   ],
   "source": [
    "plt.pie(cycle_share['day'].value_counts(), \n",
    "        labels=['Thu', 'Fri', 'Wed', 'Tues', 'Mon', 'Sat', 'Sun'], \n",
    "        autopct='%1.1f%%')\n",
    "plt.show()\n",
    "day = cycle_share['day'].value_counts()\n",
    "day.index = ['Thu', 'Fri', 'Wed', 'Tues', 'Mon', 'Sat', 'Sun']\n",
    "print(day)"
   ]
  },
  {
   "cell_type": "code",
   "execution_count": 4,
   "metadata": {},
   "outputs": [
    {
     "data": {
      "image/png": "[encoded data removed]",
      "text/plain": [
       "<matplotlib.figure.Figure at 0x445e0b8>"
      ]
     },
     "metadata": {},
     "output_type": "display_data"
    },
    {
     "name": "stdout",
     "output_type": "stream",
     "text": [
      "weekend     176935\n",
      "weekdays     59125\n",
      "Name: weekend, dtype: int64\n"
     ]
    }
   ],
   "source": [
    "plt.pie(cycle_share['weekend'].value_counts(), \n",
    "        labels=['weekend', 'weekdays'], \n",
    "        autopct='%1.1f%%')\n",
    "plt.show()\n",
    "weekend = cycle_share['weekend'].value_counts()\n",
    "weekend.index = ['weekend', 'weekdays']\n",
    "print(weekend)"
   ]
  },
  {
   "cell_type": "code",
   "execution_count": null,
   "metadata": {
    "collapsed": true
   },
   "outputs": [],
   "source": []
  },
  {
   "cell_type": "code",
   "execution_count": 4,
   "metadata": {
    "collapsed": true
   },
   "outputs": [],
   "source": [
    "from_station_id = pd.DataFrame(cycle_share.from_station_id.value_counts()).reset_index()\n",
    "from_station_id.columns = ['from_station_id', 'number_of_use']"
   ]
  },
  {
   "cell_type": "code",
   "execution_count": 6,
   "metadata": {
    "collapsed": true
   },
   "outputs": [],
   "source": [
    "station_use = pd.merge(from_station_id, cycle_share[['from_station_id', 'from_station_area', 'lat','long']], how='inner', on ='from_station_id')\n",
    "station_use = station_use[~station_use.duplicated()]"
   ]
  },
  {
   "cell_type": "code",
   "execution_count": 7,
   "metadata": {
    "collapsed": true
   },
   "outputs": [],
   "source": [
    "color_list = ['rgb(255, 0, 0)', 'rgb(255, 128, 0)', 'rgb(255, 255, 0)', \\\n",
    "              'rgb(128, 255, 0)', 'rgb(0, 255, 0)', 'rgb(0, 255, 128)', \\\n",
    "              'rgb(0, 255, 255)', 'rgb(0, 128, 255)', 'rgb(0, 0, 255)', \\\n",
    "              'rgb(128, 0, 255)', 'rgb(255, 0, 255)',  'rgb(255, 0, 128)',\\\n",
    "              'rgb(128 ,128, 128)']        "
   ]
  },
  {
   "cell_type": "code",
   "execution_count": 3,
   "metadata": {
    "collapsed": true
   },
   "outputs": [],
   "source": [
    "import private"
   ]
  },
  {
   "cell_type": "code",
   "execution_count": 33,
   "metadata": {},
   "outputs": [
    {
     "data": {
      "text/html": [
       "<iframe id=\"igraph\" scrolling=\"no\" style=\"border:none;\" seamless=\"seamless\" src=\"https://plot.ly/~shinv1234/22.embed\" height=\"525px\" width=\"100%\"></iframe>"
      ],
      "text/plain": [
       "<plotly.tools.PlotlyDisplay object>"
      ]
     },
     "execution_count": 33,
     "metadata": {},
     "output_type": "execute_result"
    }
   ],
   "source": [
    "mapbox_access_token = private.mapbox_access_token\n",
    "\n",
    "\n",
    "data = plotly.graph_objs.Data([\n",
    "    plotly.graph_objs.Scattermapbox(\n",
    "        lat = station_use['lat'],\n",
    "        lon = station_use['long'],\n",
    "        mode=\"markers+text\",\n",
    "        marker=plotly.graph_objs.Marker(\n",
    "            size= station_use['number_of_use'] *0.003, \n",
    "            color = station_use.from_station_area.replace(to_replace=list(station_use.from_station_area.unique()),\n",
    "                                      value=color_list)\n",
    "        ),\n",
    "        text=station_use['from_station_id'],\n",
    "    )\n",
    "])\n",
    "layout = plotly.graph_objs.Layout(\n",
    "    autosize=True,\n",
    "    hovermode='closest',\n",
    "    mapbox=dict(\n",
    "        accesstoken=mapbox_access_token,\n",
    "        bearing=0,\n",
    "        center=dict(\n",
    "            lat = np.mean(station_use['lat']),\n",
    "            lon = np.mean(station_use['long'])\n",
    "        ),\n",
    "        pitch=0,\n",
    "        zoom=10\n",
    "    ),\n",
    ")\n",
    "\n",
    "fig = dict(data=data, layout=layout)\n",
    "# py.iplot(fig, filename='Multiple Mapbox')\n",
    "plotly.offline.iplot(fig, filename='Multiple Mapbox')\n",
    "# https://nbviewer.jupyter.org/github/shinv1234/cycle_share/blob/master/cycle_share_EDA.ipynb"
   ]
  },
  {
   "cell_type": "code",
   "execution_count": 44,
   "metadata": {},
   "outputs": [
    {
     "data": {
      "text/html": [
       "<div>\n",
       "<table border=\"1\" class=\"dataframe\">\n",
       "  <thead>\n",
       "    <tr style=\"text-align: right;\">\n",
       "      <th></th>\n",
       "      <th>from_station_id</th>\n",
       "      <th>number_of_use</th>\n",
       "      <th>from_station_area</th>\n",
       "      <th>lat</th>\n",
       "      <th>long</th>\n",
       "    </tr>\n",
       "  </thead>\n",
       "  <tbody>\n",
       "    <tr>\n",
       "      <th>0</th>\n",
       "      <td>WF-01</td>\n",
       "      <td>11274</td>\n",
       "      <td>WF</td>\n",
       "      <td>47.614315</td>\n",
       "      <td>-122.354093</td>\n",
       "    </tr>\n",
       "    <tr>\n",
       "      <th>11274</th>\n",
       "      <td>CH-07</td>\n",
       "      <td>9466</td>\n",
       "      <td>CH</td>\n",
       "      <td>47.615330</td>\n",
       "      <td>-122.311752</td>\n",
       "    </tr>\n",
       "    <tr>\n",
       "      <th>20740</th>\n",
       "      <td>BT-01</td>\n",
       "      <td>9392</td>\n",
       "      <td>BT</td>\n",
       "      <td>47.618418</td>\n",
       "      <td>-122.350964</td>\n",
       "    </tr>\n",
       "    <tr>\n",
       "      <th>30132</th>\n",
       "      <td>CBD-13</td>\n",
       "      <td>8198</td>\n",
       "      <td>CBD</td>\n",
       "      <td>47.610185</td>\n",
       "      <td>-122.339641</td>\n",
       "    </tr>\n",
       "    <tr>\n",
       "      <th>38330</th>\n",
       "      <td>SLU-15</td>\n",
       "      <td>8188</td>\n",
       "      <td>SLU</td>\n",
       "      <td>47.613628</td>\n",
       "      <td>-122.337341</td>\n",
       "    </tr>\n",
       "    <tr>\n",
       "      <th>46518</th>\n",
       "      <td>CH-08</td>\n",
       "      <td>7690</td>\n",
       "      <td>CH</td>\n",
       "      <td>47.615486</td>\n",
       "      <td>-122.318245</td>\n",
       "    </tr>\n",
       "    <tr>\n",
       "      <th>54208</th>\n",
       "      <td>CH-02</td>\n",
       "      <td>7685</td>\n",
       "      <td>CH</td>\n",
       "      <td>47.622063</td>\n",
       "      <td>-122.321251</td>\n",
       "    </tr>\n",
       "    <tr>\n",
       "      <th>61893</th>\n",
       "      <td>BT-03</td>\n",
       "      <td>6568</td>\n",
       "      <td>BT</td>\n",
       "      <td>47.615829</td>\n",
       "      <td>-122.348564</td>\n",
       "    </tr>\n",
       "    <tr>\n",
       "      <th>68461</th>\n",
       "      <td>SLU-19</td>\n",
       "      <td>6402</td>\n",
       "      <td>SLU</td>\n",
       "      <td>47.622277</td>\n",
       "      <td>-122.355230</td>\n",
       "    </tr>\n",
       "    <tr>\n",
       "      <th>74863</th>\n",
       "      <td>SLU-01</td>\n",
       "      <td>6401</td>\n",
       "      <td>SLU</td>\n",
       "      <td>47.619859</td>\n",
       "      <td>-122.330304</td>\n",
       "    </tr>\n",
       "    <tr>\n",
       "      <th>81264</th>\n",
       "      <td>CH-05</td>\n",
       "      <td>6206</td>\n",
       "      <td>CH</td>\n",
       "      <td>47.620712</td>\n",
       "      <td>-122.312805</td>\n",
       "    </tr>\n",
       "    <tr>\n",
       "      <th>87470</th>\n",
       "      <td>SLU-02</td>\n",
       "      <td>5917</td>\n",
       "      <td>SLU</td>\n",
       "      <td>47.627735</td>\n",
       "      <td>-122.342232</td>\n",
       "    </tr>\n",
       "    <tr>\n",
       "      <th>93387</th>\n",
       "      <td>SLU-07</td>\n",
       "      <td>5631</td>\n",
       "      <td>SLU</td>\n",
       "      <td>47.618320</td>\n",
       "      <td>-122.338913</td>\n",
       "    </tr>\n",
       "    <tr>\n",
       "      <th>99018</th>\n",
       "      <td>CH-01</td>\n",
       "      <td>5441</td>\n",
       "      <td>CH</td>\n",
       "      <td>47.618633</td>\n",
       "      <td>-122.325249</td>\n",
       "    </tr>\n",
       "    <tr>\n",
       "      <th>104459</th>\n",
       "      <td>CH-15</td>\n",
       "      <td>5426</td>\n",
       "      <td>CH</td>\n",
       "      <td>47.624142</td>\n",
       "      <td>-122.316811</td>\n",
       "    </tr>\n",
       "    <tr>\n",
       "      <th>109885</th>\n",
       "      <td>WF-04</td>\n",
       "      <td>5385</td>\n",
       "      <td>WF</td>\n",
       "      <td>47.607702</td>\n",
       "      <td>-122.341650</td>\n",
       "    </tr>\n",
       "    <tr>\n",
       "      <th>115270</th>\n",
       "      <td>CH-03</td>\n",
       "      <td>5241</td>\n",
       "      <td>CH</td>\n",
       "      <td>47.623367</td>\n",
       "      <td>-122.325279</td>\n",
       "    </tr>\n",
       "    <tr>\n",
       "      <th>120511</th>\n",
       "      <td>BT-05</td>\n",
       "      <td>4986</td>\n",
       "      <td>BT</td>\n",
       "      <td>47.613110</td>\n",
       "      <td>-122.344208</td>\n",
       "    </tr>\n",
       "    <tr>\n",
       "      <th>125497</th>\n",
       "      <td>SLU-17</td>\n",
       "      <td>4897</td>\n",
       "      <td>SLU</td>\n",
       "      <td>47.626041</td>\n",
       "      <td>-122.335831</td>\n",
       "    </tr>\n",
       "    <tr>\n",
       "      <th>130394</th>\n",
       "      <td>CH-12</td>\n",
       "      <td>4826</td>\n",
       "      <td>CH</td>\n",
       "      <td>47.615456</td>\n",
       "      <td>-122.326729</td>\n",
       "    </tr>\n",
       "    <tr>\n",
       "      <th>135220</th>\n",
       "      <td>EL-03</td>\n",
       "      <td>4821</td>\n",
       "      <td>EL</td>\n",
       "      <td>47.634831</td>\n",
       "      <td>-122.326634</td>\n",
       "    </tr>\n",
       "    <tr>\n",
       "      <th>140041</th>\n",
       "      <td>SLU-16</td>\n",
       "      <td>4628</td>\n",
       "      <td>SLU</td>\n",
       "      <td>47.613715</td>\n",
       "      <td>-122.331777</td>\n",
       "    </tr>\n",
       "    <tr>\n",
       "      <th>144669</th>\n",
       "      <td>PS-04</td>\n",
       "      <td>4585</td>\n",
       "      <td>PS</td>\n",
       "      <td>47.600757</td>\n",
       "      <td>-122.332946</td>\n",
       "    </tr>\n",
       "    <tr>\n",
       "      <th>149254</th>\n",
       "      <td>CBD-05</td>\n",
       "      <td>4540</td>\n",
       "      <td>CBD</td>\n",
       "      <td>47.604058</td>\n",
       "      <td>-122.335800</td>\n",
       "    </tr>\n",
       "    <tr>\n",
       "      <th>153794</th>\n",
       "      <td>CH-09</td>\n",
       "      <td>4517</td>\n",
       "      <td>CH</td>\n",
       "      <td>47.615517</td>\n",
       "      <td>-122.322083</td>\n",
       "    </tr>\n",
       "    <tr>\n",
       "      <th>158311</th>\n",
       "      <td>SLU-04</td>\n",
       "      <td>4512</td>\n",
       "      <td>SLU</td>\n",
       "      <td>47.623165</td>\n",
       "      <td>-122.338203</td>\n",
       "    </tr>\n",
       "    <tr>\n",
       "      <th>162823</th>\n",
       "      <td>CBD-06</td>\n",
       "      <td>4336</td>\n",
       "      <td>CBD</td>\n",
       "      <td>47.605950</td>\n",
       "      <td>-122.335768</td>\n",
       "    </tr>\n",
       "    <tr>\n",
       "      <th>167159</th>\n",
       "      <td>CBD-03</td>\n",
       "      <td>4210</td>\n",
       "      <td>CBD</td>\n",
       "      <td>47.610731</td>\n",
       "      <td>-122.332447</td>\n",
       "    </tr>\n",
       "    <tr>\n",
       "      <th>171369</th>\n",
       "      <td>DPD-01</td>\n",
       "      <td>4177</td>\n",
       "      <td>DPD</td>\n",
       "      <td>47.624298</td>\n",
       "      <td>-122.339617</td>\n",
       "    </tr>\n",
       "    <tr>\n",
       "      <th>175546</th>\n",
       "      <td>BT-04</td>\n",
       "      <td>3819</td>\n",
       "      <td>BT</td>\n",
       "      <td>47.616094</td>\n",
       "      <td>-122.341102</td>\n",
       "    </tr>\n",
       "    <tr>\n",
       "      <th>179365</th>\n",
       "      <td>SLU-18</td>\n",
       "      <td>3461</td>\n",
       "      <td>SLU</td>\n",
       "      <td>47.618285</td>\n",
       "      <td>-122.342205</td>\n",
       "    </tr>\n",
       "    <tr>\n",
       "      <th>182826</th>\n",
       "      <td>FH-04</td>\n",
       "      <td>3365</td>\n",
       "      <td>FH</td>\n",
       "      <td>47.609239</td>\n",
       "      <td>-122.316651</td>\n",
       "    </tr>\n",
       "    <tr>\n",
       "      <th>186191</th>\n",
       "      <td>PS-05</td>\n",
       "      <td>3292</td>\n",
       "      <td>PS</td>\n",
       "      <td>47.598994</td>\n",
       "      <td>-122.329684</td>\n",
       "    </tr>\n",
       "    <tr>\n",
       "      <th>189483</th>\n",
       "      <td>UD-01</td>\n",
       "      <td>3243</td>\n",
       "      <td>UD</td>\n",
       "      <td>47.666145</td>\n",
       "      <td>-122.301491</td>\n",
       "    </tr>\n",
       "    <tr>\n",
       "      <th>192726</th>\n",
       "      <td>CH-06</td>\n",
       "      <td>3204</td>\n",
       "      <td>CH</td>\n",
       "      <td>47.618549</td>\n",
       "      <td>-122.317017</td>\n",
       "    </tr>\n",
       "    <tr>\n",
       "      <th>195930</th>\n",
       "      <td>EL-05</td>\n",
       "      <td>3104</td>\n",
       "      <td>EL</td>\n",
       "      <td>47.649090</td>\n",
       "      <td>-122.322983</td>\n",
       "    </tr>\n",
       "    <tr>\n",
       "      <th>199034</th>\n",
       "      <td>UD-04</td>\n",
       "      <td>3047</td>\n",
       "      <td>UD</td>\n",
       "      <td>47.656395</td>\n",
       "      <td>-122.315620</td>\n",
       "    </tr>\n",
       "    <tr>\n",
       "      <th>202081</th>\n",
       "      <td>EL-01</td>\n",
       "      <td>2968</td>\n",
       "      <td>EL</td>\n",
       "      <td>47.627643</td>\n",
       "      <td>-122.332576</td>\n",
       "    </tr>\n",
       "    <tr>\n",
       "      <th>205049</th>\n",
       "      <td>CBD-07</td>\n",
       "      <td>2882</td>\n",
       "      <td>CBD</td>\n",
       "      <td>47.603509</td>\n",
       "      <td>-122.330409</td>\n",
       "    </tr>\n",
       "    <tr>\n",
       "      <th>207931</th>\n",
       "      <td>CBD-04</td>\n",
       "      <td>2693</td>\n",
       "      <td>CBD</td>\n",
       "      <td>47.609221</td>\n",
       "      <td>-122.335596</td>\n",
       "    </tr>\n",
       "    <tr>\n",
       "      <th>210624</th>\n",
       "      <td>FH-01</td>\n",
       "      <td>2349</td>\n",
       "      <td>FH</td>\n",
       "      <td>47.607281</td>\n",
       "      <td>-122.324783</td>\n",
       "    </tr>\n",
       "    <tr>\n",
       "      <th>212973</th>\n",
       "      <td>UW-04</td>\n",
       "      <td>2318</td>\n",
       "      <td>UW</td>\n",
       "      <td>47.655590</td>\n",
       "      <td>-122.311890</td>\n",
       "    </tr>\n",
       "    <tr>\n",
       "      <th>215291</th>\n",
       "      <td>ID-04</td>\n",
       "      <td>2182</td>\n",
       "      <td>ID</td>\n",
       "      <td>47.598488</td>\n",
       "      <td>-122.326412</td>\n",
       "    </tr>\n",
       "    <tr>\n",
       "      <th>217473</th>\n",
       "      <td>SLU-20</td>\n",
       "      <td>2134</td>\n",
       "      <td>SLU</td>\n",
       "      <td>47.616260</td>\n",
       "      <td>-122.333815</td>\n",
       "    </tr>\n",
       "    <tr>\n",
       "      <th>219607</th>\n",
       "      <td>UD-07</td>\n",
       "      <td>2115</td>\n",
       "      <td>UD</td>\n",
       "      <td>47.663143</td>\n",
       "      <td>-122.315086</td>\n",
       "    </tr>\n",
       "    <tr>\n",
       "      <th>221722</th>\n",
       "      <td>UW-06</td>\n",
       "      <td>2012</td>\n",
       "      <td>UW</td>\n",
       "      <td>47.654613</td>\n",
       "      <td>-122.304863</td>\n",
       "    </tr>\n",
       "    <tr>\n",
       "      <th>223734</th>\n",
       "      <td>UW-02</td>\n",
       "      <td>1689</td>\n",
       "      <td>UW</td>\n",
       "      <td>47.659756</td>\n",
       "      <td>-122.310402</td>\n",
       "    </tr>\n",
       "    <tr>\n",
       "      <th>225423</th>\n",
       "      <td>UW-07</td>\n",
       "      <td>1542</td>\n",
       "      <td>UW</td>\n",
       "      <td>47.653713</td>\n",
       "      <td>-122.302162</td>\n",
       "    </tr>\n",
       "    <tr>\n",
       "      <th>226965</th>\n",
       "      <td>DPD-03</td>\n",
       "      <td>1290</td>\n",
       "      <td>DPD</td>\n",
       "      <td>47.663509</td>\n",
       "      <td>-122.284119</td>\n",
       "    </tr>\n",
       "    <tr>\n",
       "      <th>228255</th>\n",
       "      <td>CH-16</td>\n",
       "      <td>1288</td>\n",
       "      <td>CH</td>\n",
       "      <td>47.618640</td>\n",
       "      <td>-122.320777</td>\n",
       "    </tr>\n",
       "    <tr>\n",
       "      <th>229543</th>\n",
       "      <td>UW-10</td>\n",
       "      <td>1160</td>\n",
       "      <td>UW</td>\n",
       "      <td>47.650725</td>\n",
       "      <td>-122.311188</td>\n",
       "    </tr>\n",
       "    <tr>\n",
       "      <th>230703</th>\n",
       "      <td>UD-02</td>\n",
       "      <td>1147</td>\n",
       "      <td>UD</td>\n",
       "      <td>47.658288</td>\n",
       "      <td>-122.313334</td>\n",
       "    </tr>\n",
       "    <tr>\n",
       "      <th>231850</th>\n",
       "      <td>UW-11</td>\n",
       "      <td>988</td>\n",
       "      <td>UW</td>\n",
       "      <td>47.649952</td>\n",
       "      <td>-122.306263</td>\n",
       "    </tr>\n",
       "    <tr>\n",
       "      <th>232838</th>\n",
       "      <td>CD-01</td>\n",
       "      <td>958</td>\n",
       "      <td>CD</td>\n",
       "      <td>47.602103</td>\n",
       "      <td>-122.316923</td>\n",
       "    </tr>\n",
       "    <tr>\n",
       "      <th>233796</th>\n",
       "      <td>SLU-21</td>\n",
       "      <td>863</td>\n",
       "      <td>SLU</td>\n",
       "      <td>47.624769</td>\n",
       "      <td>-122.339408</td>\n",
       "    </tr>\n",
       "    <tr>\n",
       "      <th>234659</th>\n",
       "      <td>SLU-22</td>\n",
       "      <td>761</td>\n",
       "      <td>SLU</td>\n",
       "      <td>47.620879</td>\n",
       "      <td>-122.347377</td>\n",
       "    </tr>\n",
       "    <tr>\n",
       "      <th>235420</th>\n",
       "      <td>UW-01</td>\n",
       "      <td>480</td>\n",
       "      <td>UW</td>\n",
       "      <td>47.660268</td>\n",
       "      <td>-122.304826</td>\n",
       "    </tr>\n",
       "    <tr>\n",
       "      <th>235900</th>\n",
       "      <td>WF-03</td>\n",
       "      <td>160</td>\n",
       "      <td>WF</td>\n",
       "      <td>47.611370</td>\n",
       "      <td>-122.348701</td>\n",
       "    </tr>\n",
       "  </tbody>\n",
       "</table>\n",
       "</div>"
      ],
      "text/plain": [
       "       from_station_id  number_of_use from_station_area        lat        long\n",
       "0                WF-01          11274                WF  47.614315 -122.354093\n",
       "11274            CH-07           9466                CH  47.615330 -122.311752\n",
       "20740            BT-01           9392                BT  47.618418 -122.350964\n",
       "30132           CBD-13           8198               CBD  47.610185 -122.339641\n",
       "38330           SLU-15           8188               SLU  47.613628 -122.337341\n",
       "46518            CH-08           7690                CH  47.615486 -122.318245\n",
       "54208            CH-02           7685                CH  47.622063 -122.321251\n",
       "61893            BT-03           6568                BT  47.615829 -122.348564\n",
       "68461           SLU-19           6402               SLU  47.622277 -122.355230\n",
       "74863           SLU-01           6401               SLU  47.619859 -122.330304\n",
       "81264            CH-05           6206                CH  47.620712 -122.312805\n",
       "87470           SLU-02           5917               SLU  47.627735 -122.342232\n",
       "93387           SLU-07           5631               SLU  47.618320 -122.338913\n",
       "99018            CH-01           5441                CH  47.618633 -122.325249\n",
       "104459           CH-15           5426                CH  47.624142 -122.316811\n",
       "109885           WF-04           5385                WF  47.607702 -122.341650\n",
       "115270           CH-03           5241                CH  47.623367 -122.325279\n",
       "120511           BT-05           4986                BT  47.613110 -122.344208\n",
       "125497          SLU-17           4897               SLU  47.626041 -122.335831\n",
       "130394           CH-12           4826                CH  47.615456 -122.326729\n",
       "135220           EL-03           4821                EL  47.634831 -122.326634\n",
       "140041          SLU-16           4628               SLU  47.613715 -122.331777\n",
       "144669           PS-04           4585                PS  47.600757 -122.332946\n",
       "149254          CBD-05           4540               CBD  47.604058 -122.335800\n",
       "153794           CH-09           4517                CH  47.615517 -122.322083\n",
       "158311          SLU-04           4512               SLU  47.623165 -122.338203\n",
       "162823          CBD-06           4336               CBD  47.605950 -122.335768\n",
       "167159          CBD-03           4210               CBD  47.610731 -122.332447\n",
       "171369          DPD-01           4177               DPD  47.624298 -122.339617\n",
       "175546           BT-04           3819                BT  47.616094 -122.341102\n",
       "179365          SLU-18           3461               SLU  47.618285 -122.342205\n",
       "182826           FH-04           3365                FH  47.609239 -122.316651\n",
       "186191           PS-05           3292                PS  47.598994 -122.329684\n",
       "189483           UD-01           3243                UD  47.666145 -122.301491\n",
       "192726           CH-06           3204                CH  47.618549 -122.317017\n",
       "195930           EL-05           3104                EL  47.649090 -122.322983\n",
       "199034           UD-04           3047                UD  47.656395 -122.315620\n",
       "202081           EL-01           2968                EL  47.627643 -122.332576\n",
       "205049          CBD-07           2882               CBD  47.603509 -122.330409\n",
       "207931          CBD-04           2693               CBD  47.609221 -122.335596\n",
       "210624           FH-01           2349                FH  47.607281 -122.324783\n",
       "212973           UW-04           2318                UW  47.655590 -122.311890\n",
       "215291           ID-04           2182                ID  47.598488 -122.326412\n",
       "217473          SLU-20           2134               SLU  47.616260 -122.333815\n",
       "219607           UD-07           2115                UD  47.663143 -122.315086\n",
       "221722           UW-06           2012                UW  47.654613 -122.304863\n",
       "223734           UW-02           1689                UW  47.659756 -122.310402\n",
       "225423           UW-07           1542                UW  47.653713 -122.302162\n",
       "226965          DPD-03           1290               DPD  47.663509 -122.284119\n",
       "228255           CH-16           1288                CH  47.618640 -122.320777\n",
       "229543           UW-10           1160                UW  47.650725 -122.311188\n",
       "230703           UD-02           1147                UD  47.658288 -122.313334\n",
       "231850           UW-11            988                UW  47.649952 -122.306263\n",
       "232838           CD-01            958                CD  47.602103 -122.316923\n",
       "233796          SLU-21            863               SLU  47.624769 -122.339408\n",
       "234659          SLU-22            761               SLU  47.620879 -122.347377\n",
       "235420           UW-01            480                UW  47.660268 -122.304826\n",
       "235900           WF-03            160                WF  47.611370 -122.348701"
      ]
     },
     "execution_count": 44,
     "metadata": {},
     "output_type": "execute_result"
    }
   ],
   "source": [
    "station_use"
   ]
  },
  {
   "cell_type": "code",
   "execution_count": null,
   "metadata": {
    "collapsed": true
   },
   "outputs": [],
   "source": []
  },
  {
   "cell_type": "code",
   "execution_count": null,
   "metadata": {
    "collapsed": true
   },
   "outputs": [],
   "source": []
  },
  {
   "cell_type": "code",
   "execution_count": null,
   "metadata": {
    "collapsed": true
   },
   "outputs": [],
   "source": []
  }
 ],
 "metadata": {
  "kernelspec": {
   "display_name": "Python 2",
   "language": "python",
   "name": "python2"
  },
  "language_info": {
   "codemirror_mode": {
    "name": "ipython",
    "version": 2
   },
   "file_extension": ".py",
   "mimetype": "text/x-python",
   "name": "python",
   "nbconvert_exporter": "python",
   "pygments_lexer": "ipython2",
   "version": "2.7.13"
  }
 },
 "nbformat": 4,
 "nbformat_minor": 2
}
